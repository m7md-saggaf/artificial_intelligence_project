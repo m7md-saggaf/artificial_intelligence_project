version https://git-lfs.github.com/spec/v1
oid sha256:e65c9f2edaec55bdd170c8ef1d3ed952a51316dc0441835402e694aa1bdded9f
size 2760040
