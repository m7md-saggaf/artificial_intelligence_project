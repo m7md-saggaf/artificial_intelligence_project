version https://git-lfs.github.com/spec/v1
oid sha256:2bc16bef2093f8db1ce0ba02180435f12853b8496e833ad36836669ad9cdd00b
size 341574
