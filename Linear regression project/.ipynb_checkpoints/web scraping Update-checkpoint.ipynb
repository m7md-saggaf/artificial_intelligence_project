version https://git-lfs.github.com/spec/v1
oid sha256:f8e30caa971920eab51624f8f0ae902bc8989a87d85f89aed3c52ef13757f89b
size 345121
