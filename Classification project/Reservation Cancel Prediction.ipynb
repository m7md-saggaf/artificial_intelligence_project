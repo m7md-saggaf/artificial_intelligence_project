version https://git-lfs.github.com/spec/v1
oid sha256:ed0a05c3fb2db1bde9a0b17a5cef49005be96c223232f23d0acf5b83d3cb50be
size 6592226
