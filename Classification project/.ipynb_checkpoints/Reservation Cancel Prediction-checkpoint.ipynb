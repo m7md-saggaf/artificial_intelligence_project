version https://git-lfs.github.com/spec/v1
oid sha256:d3868facbc15202a1ca3a61f400116f261a920d8fd25ac60a73c33648719de8d
size 2740823
